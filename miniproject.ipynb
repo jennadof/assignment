{
  "nbformat": 4,
  "nbformat_minor": 0,
  "metadata": {
    "colab": {
      "name": "miniproject",
      "provenance": [],
      "collapsed_sections": [],
      "authorship_tag": "ABX9TyPznwlIbZc1+OaVLFxPI6II",
      "include_colab_link": true
    },
    "kernelspec": {
      "name": "python3",
      "display_name": "Python 3"
    },
    "language_info": {
      "name": "python"
    }
  },
  "cells": [
    {
      "cell_type": "markdown",
      "metadata": {
        "id": "view-in-github",
        "colab_type": "text"
      },
      "source": [
        "<a href=\"https://colab.research.google.com/github/jennadof/assignment/blob/main/miniproject.ipynb\" target=\"_parent\"><img src=\"https://colab.research.google.com/assets/colab-badge.svg\" alt=\"Open In Colab\"/></a>"
      ]
    },
    {
      "cell_type": "code",
      "execution_count": null,
      "metadata": {
        "id": "6OWofakTwNZ9"
      },
      "outputs": [],
      "source": [
        "import numpy as np\n"
      ]
    },
    {
      "cell_type": "code",
      "source": [
        "import pandas as pd"
      ],
      "metadata": {
        "id": "UG1JjI8Swdr1"
      },
      "execution_count": null,
      "outputs": []
    },
    {
      "cell_type": "code",
      "source": [
        "df = pd.read_csv(\"/content/makeSenseOfCensus.csv\")\n",
        "df.head()"
      ],
      "metadata": {
        "colab": {
          "base_uri": "https://localhost:8080/",
          "height": 267
        },
        "id": "QC18XPQ1w6IJ",
        "outputId": "ce943748-43f3-4c49-9372-b6780a897564"
      },
      "execution_count": null,
      "outputs": [
        {
          "output_type": "execute_result",
          "data": {
            "text/html": [
              "\n",
              "  <div id=\"df-7a67874e-563a-4cd1-8842-001f024a0f2b\">\n",
              "    <div class=\"colab-df-container\">\n",
              "      <div>\n",
              "<style scoped>\n",
              "    .dataframe tbody tr th:only-of-type {\n",
              "        vertical-align: middle;\n",
              "    }\n",
              "\n",
              "    .dataframe tbody tr th {\n",
              "        vertical-align: top;\n",
              "    }\n",
              "\n",
              "    .dataframe thead th {\n",
              "        text-align: right;\n",
              "    }\n",
              "</style>\n",
              "<table border=\"1\" class=\"dataframe\">\n",
              "  <thead>\n",
              "    <tr style=\"text-align: right;\">\n",
              "      <th></th>\n",
              "      <th>age</th>\n",
              "      <th>education-num</th>\n",
              "      <th>race</th>\n",
              "      <th>sex</th>\n",
              "      <th>capital-gain</th>\n",
              "      <th>capital-loss</th>\n",
              "      <th>hours-per-week</th>\n",
              "      <th>income</th>\n",
              "    </tr>\n",
              "  </thead>\n",
              "  <tbody>\n",
              "    <tr>\n",
              "      <th>0</th>\n",
              "      <td>39</td>\n",
              "      <td>13</td>\n",
              "      <td>4</td>\n",
              "      <td>1</td>\n",
              "      <td>2174</td>\n",
              "      <td>0</td>\n",
              "      <td>40</td>\n",
              "      <td>0</td>\n",
              "    </tr>\n",
              "    <tr>\n",
              "      <th>1</th>\n",
              "      <td>50</td>\n",
              "      <td>13</td>\n",
              "      <td>4</td>\n",
              "      <td>1</td>\n",
              "      <td>0</td>\n",
              "      <td>0</td>\n",
              "      <td>13</td>\n",
              "      <td>0</td>\n",
              "    </tr>\n",
              "    <tr>\n",
              "      <th>2</th>\n",
              "      <td>38</td>\n",
              "      <td>9</td>\n",
              "      <td>4</td>\n",
              "      <td>1</td>\n",
              "      <td>0</td>\n",
              "      <td>0</td>\n",
              "      <td>40</td>\n",
              "      <td>0</td>\n",
              "    </tr>\n",
              "    <tr>\n",
              "      <th>3</th>\n",
              "      <td>53</td>\n",
              "      <td>7</td>\n",
              "      <td>2</td>\n",
              "      <td>1</td>\n",
              "      <td>0</td>\n",
              "      <td>0</td>\n",
              "      <td>40</td>\n",
              "      <td>0</td>\n",
              "    </tr>\n",
              "    <tr>\n",
              "      <th>4</th>\n",
              "      <td>28</td>\n",
              "      <td>13</td>\n",
              "      <td>2</td>\n",
              "      <td>0</td>\n",
              "      <td>0</td>\n",
              "      <td>0</td>\n",
              "      <td>40</td>\n",
              "      <td>0</td>\n",
              "    </tr>\n",
              "  </tbody>\n",
              "</table>\n",
              "</div>\n",
              "      <button class=\"colab-df-convert\" onclick=\"convertToInteractive('df-7a67874e-563a-4cd1-8842-001f024a0f2b')\"\n",
              "              title=\"Convert this dataframe to an interactive table.\"\n",
              "              style=\"display:none;\">\n",
              "        \n",
              "  <svg xmlns=\"http://www.w3.org/2000/svg\" height=\"24px\"viewBox=\"0 0 24 24\"\n",
              "       width=\"24px\">\n",
              "    <path d=\"M0 0h24v24H0V0z\" fill=\"none\"/>\n",
              "    <path d=\"M18.56 5.44l.94 2.06.94-2.06 2.06-.94-2.06-.94-.94-2.06-.94 2.06-2.06.94zm-11 1L8.5 8.5l.94-2.06 2.06-.94-2.06-.94L8.5 2.5l-.94 2.06-2.06.94zm10 10l.94 2.06.94-2.06 2.06-.94-2.06-.94-.94-2.06-.94 2.06-2.06.94z\"/><path d=\"M17.41 7.96l-1.37-1.37c-.4-.4-.92-.59-1.43-.59-.52 0-1.04.2-1.43.59L10.3 9.45l-7.72 7.72c-.78.78-.78 2.05 0 2.83L4 21.41c.39.39.9.59 1.41.59.51 0 1.02-.2 1.41-.59l7.78-7.78 2.81-2.81c.8-.78.8-2.07 0-2.86zM5.41 20L4 18.59l7.72-7.72 1.47 1.35L5.41 20z\"/>\n",
              "  </svg>\n",
              "      </button>\n",
              "      \n",
              "  <style>\n",
              "    .colab-df-container {\n",
              "      display:flex;\n",
              "      flex-wrap:wrap;\n",
              "      gap: 12px;\n",
              "    }\n",
              "\n",
              "    .colab-df-convert {\n",
              "      background-color: #E8F0FE;\n",
              "      border: none;\n",
              "      border-radius: 50%;\n",
              "      cursor: pointer;\n",
              "      display: none;\n",
              "      fill: #1967D2;\n",
              "      height: 32px;\n",
              "      padding: 0 0 0 0;\n",
              "      width: 32px;\n",
              "    }\n",
              "\n",
              "    .colab-df-convert:hover {\n",
              "      background-color: #E2EBFA;\n",
              "      box-shadow: 0px 1px 2px rgba(60, 64, 67, 0.3), 0px 1px 3px 1px rgba(60, 64, 67, 0.15);\n",
              "      fill: #174EA6;\n",
              "    }\n",
              "\n",
              "    [theme=dark] .colab-df-convert {\n",
              "      background-color: #3B4455;\n",
              "      fill: #D2E3FC;\n",
              "    }\n",
              "\n",
              "    [theme=dark] .colab-df-convert:hover {\n",
              "      background-color: #434B5C;\n",
              "      box-shadow: 0px 1px 3px 1px rgba(0, 0, 0, 0.15);\n",
              "      filter: drop-shadow(0px 1px 2px rgba(0, 0, 0, 0.3));\n",
              "      fill: #FFFFFF;\n",
              "    }\n",
              "  </style>\n",
              "\n",
              "      <script>\n",
              "        const buttonEl =\n",
              "          document.querySelector('#df-7a67874e-563a-4cd1-8842-001f024a0f2b button.colab-df-convert');\n",
              "        buttonEl.style.display =\n",
              "          google.colab.kernel.accessAllowed ? 'block' : 'none';\n",
              "\n",
              "        async function convertToInteractive(key) {\n",
              "          const element = document.querySelector('#df-7a67874e-563a-4cd1-8842-001f024a0f2b');\n",
              "          const dataTable =\n",
              "            await google.colab.kernel.invokeFunction('convertToInteractive',\n",
              "                                                     [key], {});\n",
              "          if (!dataTable) return;\n",
              "\n",
              "          const docLinkHtml = 'Like what you see? Visit the ' +\n",
              "            '<a target=\"_blank\" href=https://colab.research.google.com/notebooks/data_table.ipynb>data table notebook</a>'\n",
              "            + ' to learn more about interactive tables.';\n",
              "          element.innerHTML = '';\n",
              "          dataTable['output_type'] = 'display_data';\n",
              "          await google.colab.output.renderOutput(dataTable, element);\n",
              "          const docLink = document.createElement('div');\n",
              "          docLink.innerHTML = docLinkHtml;\n",
              "          element.appendChild(docLink);\n",
              "        }\n",
              "      </script>\n",
              "    </div>\n",
              "  </div>\n",
              "  "
            ],
            "text/plain": [
              "   age  education-num  race  sex  capital-gain  capital-loss  hours-per-week  \\\n",
              "0   39             13     4    1          2174             0              40   \n",
              "1   50             13     4    1             0             0              13   \n",
              "2   38              9     4    1             0             0              40   \n",
              "3   53              7     2    1             0             0              40   \n",
              "4   28             13     2    0             0             0              40   \n",
              "\n",
              "   income  \n",
              "0       0  \n",
              "1       0  \n",
              "2       0  \n",
              "3       0  \n",
              "4       0  "
            ]
          },
          "metadata": {},
          "execution_count": 18
        }
      ]
    },
    {
      "cell_type": "code",
      "source": [
        "data_file ='makeSenseOfCensus.csv'\n",
        "data = np.genfromtxt(data_file, delimiter=\",\", skip_header=1)\n",
        "\n",
        "# printing the data\n",
        "\n",
        "print(\"\\nData: \\n\\n\", data)"
      ],
      "metadata": {
        "colab": {
          "base_uri": "https://localhost:8080/"
        },
        "id": "0mfCOAGF0GR9",
        "outputId": "2f02011a-497d-4ee1-f065-0dccebe3e922"
      },
      "execution_count": null,
      "outputs": [
        {
          "output_type": "stream",
          "name": "stdout",
          "text": [
            "\n",
            "Data: \n",
            "\n",
            " [[39. 13.  4. ...  0. 40.  0.]\n",
            " [50. 13.  4. ...  0. 13.  0.]\n",
            " [38.  9.  4. ...  0. 40.  0.]\n",
            " ...\n",
            " [48. 13.  4. ...  0. 58.  1.]\n",
            " [40. 10.  4. ...  0. 40.  0.]\n",
            " [39. 13.  4. ...  0. 50.  1.]]\n"
          ]
        }
      ]
    },
    {
      "cell_type": "code",
      "source": [
        " print(type(data))"
      ],
      "metadata": {
        "colab": {
          "base_uri": "https://localhost:8080/"
        },
        "id": "Afsd3MPb1zRb",
        "outputId": "86be7f49-34d2-4196-e0dd-6360196e84f5"
      },
      "execution_count": null,
      "outputs": [
        {
          "output_type": "stream",
          "name": "stdout",
          "text": [
            "<class 'numpy.ndarray'>\n"
          ]
        }
      ]
    },
    {
      "cell_type": "code",
      "source": [
        "new_record = np.array([[50,9,4,1,0,0,40,0]], dtype = \"float\")\n",
        "print(new_record)\n",
        "print(data)"
      ],
      "metadata": {
        "colab": {
          "base_uri": "https://localhost:8080/"
        },
        "id": "T6xQB3zK1zL8",
        "outputId": "ec93b8fe-7304-47e8-dd4d-cd811a82106e"
      },
      "execution_count": null,
      "outputs": [
        {
          "output_type": "stream",
          "name": "stdout",
          "text": [
            "[[50.  9.  4.  1.  0.  0. 40.  0.]]\n",
            "[[39. 13.  4. ...  0. 40.  0.]\n",
            " [50. 13.  4. ...  0. 13.  0.]\n",
            " [38.  9.  4. ...  0. 40.  0.]\n",
            " ...\n",
            " [48. 13.  4. ...  0. 58.  1.]\n",
            " [40. 10.  4. ...  0. 40.  0.]\n",
            " [39. 13.  4. ...  0. 50.  1.]]\n"
          ]
        }
      ]
    },
    {
      "cell_type": "code",
      "source": [
        "data = np.concatenate((data, new_record))\n",
        "print(data)\n"
      ],
      "metadata": {
        "colab": {
          "base_uri": "https://localhost:8080/"
        },
        "id": "8q5QYbrC4Lzk",
        "outputId": "0c9e7c8c-e1be-4a2b-89de-77e27466952b"
      },
      "execution_count": null,
      "outputs": [
        {
          "output_type": "stream",
          "name": "stdout",
          "text": [
            "[[39. 13.  4. ...  0. 40.  0.]\n",
            " [50. 13.  4. ...  0. 13.  0.]\n",
            " [38.  9.  4. ...  0. 40.  0.]\n",
            " ...\n",
            " [40. 10.  4. ...  0. 40.  0.]\n",
            " [39. 13.  4. ...  0. 50.  1.]\n",
            " [50.  9.  4. ...  0. 40.  0.]]\n"
          ]
        }
      ]
    },
    {
      "cell_type": "code",
      "source": [
        "age = np.array(data[:,0])\n",
        "print(age)\n",
        "max_age = age.max()\n",
        "print(max_age)\n",
        "min_age = age.min()\n",
        "print(min_age)\n",
        "mean_age = age.mean()\n",
        "print(round(mean_age))\n",
        "age_std = age.std()\n",
        "print(round(age_std))\n"
      ],
      "metadata": {
        "colab": {
          "base_uri": "https://localhost:8080/"
        },
        "id": "rDPj2uLA45yM",
        "outputId": "320ca910-3d28-424d-819e-e23104014001"
      },
      "execution_count": null,
      "outputs": [
        {
          "output_type": "stream",
          "name": "stdout",
          "text": [
            "[39. 50. 38. ... 40. 39. 50.]\n",
            "90.0\n",
            "17.0\n",
            "38\n",
            "13\n"
          ]
        }
      ]
    },
    {
      "cell_type": "code",
      "source": [
        "race_0 =data[data[:,2]==0]\n",
        "print(race_0)"
      ],
      "metadata": {
        "colab": {
          "base_uri": "https://localhost:8080/"
        },
        "id": "Pt0fx8-39Ns5",
        "outputId": "56925d60-004b-4702-a86e-8b091166b1bc"
      },
      "execution_count": null,
      "outputs": [
        {
          "output_type": "stream",
          "name": "stdout",
          "text": [
            "[[34.  4.  0.  1.  0.  0. 45.  0.]\n",
            " [35. 10.  0.  0.  0.  0. 40.  0.]\n",
            " [60.  6.  0.  0.  0.  0. 10.  0.]\n",
            " [51.  9.  0.  1.  0.  0. 40.  0.]\n",
            " [25. 10.  0.  0.  0.  0. 20.  0.]\n",
            " [20.  9.  0.  1.  0.  0. 48.  0.]\n",
            " [23. 10.  0.  0.  0.  0. 25.  0.]\n",
            " [29.  9.  0.  1.  0.  0. 40.  0.]\n",
            " [27. 12.  0.  1.  0.  0. 40.  0.]\n",
            " [31. 12.  0.  0.  0.  0. 40.  0.]]\n"
          ]
        }
      ]
    },
    {
      "cell_type": "code",
      "source": [
        "race_1 =data[data[:,2]==1]\n",
        "print(race_1)\n"
      ],
      "metadata": {
        "colab": {
          "base_uri": "https://localhost:8080/"
        },
        "id": "W5eYcRfz_wnQ",
        "outputId": "3154df0b-9ef0-469b-ffe3-6993797337ca"
      },
      "execution_count": null,
      "outputs": [
        {
          "output_type": "stream",
          "name": "stdout",
          "text": [
            "[[3.000e+01 1.300e+01 1.000e+00 1.000e+00 0.000e+00 0.000e+00 4.000e+01\n",
            "  1.000e+00]\n",
            " [4.000e+01 1.100e+01 1.000e+00 1.000e+00 0.000e+00 0.000e+00 4.000e+01\n",
            "  1.000e+00]\n",
            " [5.400e+01 1.000e+01 1.000e+00 1.000e+00 0.000e+00 0.000e+00 6.000e+01\n",
            "  1.000e+00]\n",
            " [3.000e+01 9.000e+00 1.000e+00 0.000e+00 0.000e+00 1.573e+03 3.500e+01\n",
            "  0.000e+00]\n",
            " [4.900e+01 1.000e+01 1.000e+00 1.000e+00 0.000e+00 0.000e+00 4.000e+01\n",
            "  1.000e+00]\n",
            " [3.300e+01 1.300e+01 1.000e+00 0.000e+00 0.000e+00 0.000e+00 4.000e+01\n",
            "  0.000e+00]\n",
            " [4.400e+01 1.400e+01 1.000e+00 0.000e+00 0.000e+00 0.000e+00 4.000e+01\n",
            "  0.000e+00]\n",
            " [2.800e+01 9.000e+00 1.000e+00 0.000e+00 0.000e+00 0.000e+00 4.000e+01\n",
            "  0.000e+00]\n",
            " [6.000e+01 9.000e+00 1.000e+00 1.000e+00 0.000e+00 0.000e+00 4.000e+01\n",
            "  0.000e+00]\n",
            " [4.200e+01 9.000e+00 1.000e+00 1.000e+00 0.000e+00 0.000e+00 4.000e+01\n",
            "  1.000e+00]\n",
            " [3.700e+01 1.000e+01 1.000e+00 1.000e+00 0.000e+00 0.000e+00 7.500e+01\n",
            "  1.000e+00]\n",
            " [3.900e+01 1.400e+01 1.000e+00 0.000e+00 3.464e+03 0.000e+00 4.000e+01\n",
            "  0.000e+00]\n",
            " [2.100e+01 1.000e+01 1.000e+00 0.000e+00 0.000e+00 0.000e+00 2.500e+01\n",
            "  0.000e+00]\n",
            " [2.400e+01 1.000e+01 1.000e+00 0.000e+00 0.000e+00 0.000e+00 4.000e+01\n",
            "  0.000e+00]\n",
            " [3.400e+01 1.400e+01 1.000e+00 1.000e+00 7.298e+03 0.000e+00 3.500e+01\n",
            "  1.000e+00]\n",
            " [2.700e+01 1.000e+01 1.000e+00 1.000e+00 0.000e+00 1.980e+03 4.000e+01\n",
            "  0.000e+00]\n",
            " [4.000e+01 1.100e+01 1.000e+00 1.000e+00 0.000e+00 0.000e+00 4.000e+01\n",
            "  1.000e+00]\n",
            " [5.500e+01 9.000e+00 1.000e+00 0.000e+00 0.000e+00 0.000e+00 4.000e+01\n",
            "  0.000e+00]\n",
            " [3.500e+01 1.600e+01 1.000e+00 1.000e+00 0.000e+00 0.000e+00 4.000e+01\n",
            "  1.000e+00]\n",
            " [2.900e+01 1.000e+01 1.000e+00 0.000e+00 0.000e+00 0.000e+00 4.000e+01\n",
            "  0.000e+00]\n",
            " [2.000e+01 7.000e+00 1.000e+00 0.000e+00 0.000e+00 1.762e+03 4.000e+01\n",
            "  0.000e+00]\n",
            " [5.500e+01 1.000e+01 1.000e+00 0.000e+00 0.000e+00 0.000e+00 4.000e+01\n",
            "  0.000e+00]\n",
            " [5.100e+01 1.300e+01 1.000e+00 1.000e+00 0.000e+00 2.415e+03 4.000e+01\n",
            "  1.000e+00]\n",
            " [2.800e+01 1.100e+01 1.000e+00 0.000e+00 0.000e+00 0.000e+00 4.000e+01\n",
            "  0.000e+00]\n",
            " [4.300e+01 1.400e+01 1.000e+00 0.000e+00 0.000e+00 0.000e+00 5.000e+01\n",
            "  0.000e+00]\n",
            " [6.700e+01 9.000e+00 1.000e+00 1.000e+00 0.000e+00 0.000e+00 4.000e+01\n",
            "  1.000e+00]\n",
            " [4.800e+01 1.300e+01 1.000e+00 1.000e+00 0.000e+00 0.000e+00 4.000e+01\n",
            "  1.000e+00]]\n"
          ]
        }
      ]
    },
    {
      "cell_type": "code",
      "source": [
        "race_2 =data[data[:,2]==2]\n",
        "print(race_2)\n"
      ],
      "metadata": {
        "colab": {
          "base_uri": "https://localhost:8080/"
        },
        "id": "Dm_zZPfDAU3u",
        "outputId": "fbb771f9-6500-41e7-a1c6-48f7e99045f0"
      },
      "execution_count": null,
      "outputs": [
        {
          "output_type": "stream",
          "name": "stdout",
          "text": [
            "[[5.300e+01 7.000e+00 2.000e+00 1.000e+00 0.000e+00 0.000e+00 4.000e+01\n",
            "  0.000e+00]\n",
            " [2.800e+01 1.300e+01 2.000e+00 0.000e+00 0.000e+00 0.000e+00 4.000e+01\n",
            "  0.000e+00]\n",
            " [4.900e+01 5.000e+00 2.000e+00 0.000e+00 0.000e+00 0.000e+00 1.600e+01\n",
            "  0.000e+00]\n",
            " [3.700e+01 1.000e+01 2.000e+00 1.000e+00 0.000e+00 0.000e+00 8.000e+01\n",
            "  1.000e+00]\n",
            " [3.200e+01 1.200e+01 2.000e+00 1.000e+00 0.000e+00 0.000e+00 5.000e+01\n",
            "  0.000e+00]\n",
            " [5.400e+01 9.000e+00 2.000e+00 0.000e+00 0.000e+00 0.000e+00 2.000e+01\n",
            "  0.000e+00]\n",
            " [3.500e+01 5.000e+00 2.000e+00 1.000e+00 0.000e+00 0.000e+00 4.000e+01\n",
            "  0.000e+00]\n",
            " [2.000e+01 1.000e+01 2.000e+00 1.000e+00 0.000e+00 0.000e+00 4.400e+01\n",
            "  0.000e+00]\n",
            " [2.200e+01 1.000e+01 2.000e+00 1.000e+00 0.000e+00 0.000e+00 1.500e+01\n",
            "  0.000e+00]\n",
            " [5.700e+01 1.300e+01 2.000e+00 1.000e+00 0.000e+00 0.000e+00 4.000e+01\n",
            "  1.000e+00]\n",
            " [3.100e+01 1.300e+01 2.000e+00 0.000e+00 0.000e+00 0.000e+00 4.000e+01\n",
            "  0.000e+00]\n",
            " [2.800e+01 1.000e+01 2.000e+00 0.000e+00 0.000e+00 0.000e+00 2.500e+01\n",
            "  0.000e+00]\n",
            " [3.200e+01 9.000e+00 2.000e+00 1.000e+00 0.000e+00 0.000e+00 4.000e+01\n",
            "  0.000e+00]\n",
            " [4.900e+01 1.100e+01 2.000e+00 1.000e+00 0.000e+00 0.000e+00 4.000e+01\n",
            "  1.000e+00]\n",
            " [3.000e+01 1.300e+01 2.000e+00 1.000e+00 0.000e+00 0.000e+00 4.000e+01\n",
            "  0.000e+00]\n",
            " [1.900e+01 1.000e+01 2.000e+00 1.000e+00 0.000e+00 0.000e+00 3.500e+01\n",
            "  0.000e+00]\n",
            " [4.600e+01 1.200e+01 2.000e+00 0.000e+00 0.000e+00 0.000e+00 3.600e+01\n",
            "  0.000e+00]\n",
            " [3.100e+01 9.000e+00 2.000e+00 0.000e+00 0.000e+00 0.000e+00 3.000e+01\n",
            "  0.000e+00]\n",
            " [7.100e+01 1.000e+01 2.000e+00 1.000e+00 0.000e+00 1.816e+03 2.000e+00\n",
            "  0.000e+00]\n",
            " [4.200e+01 1.300e+01 2.000e+00 1.000e+00 0.000e+00 0.000e+00 5.000e+01\n",
            "  0.000e+00]\n",
            " [2.100e+01 9.000e+00 2.000e+00 1.000e+00 0.000e+00 0.000e+00 4.000e+01\n",
            "  0.000e+00]\n",
            " [3.400e+01 9.000e+00 2.000e+00 1.000e+00 0.000e+00 0.000e+00 4.000e+01\n",
            "  0.000e+00]\n",
            " [4.400e+01 1.000e+01 2.000e+00 1.000e+00 0.000e+00 0.000e+00 3.800e+01\n",
            "  1.000e+00]\n",
            " [3.000e+01 1.000e+01 2.000e+00 1.000e+00 0.000e+00 0.000e+00 4.500e+01\n",
            "  0.000e+00]\n",
            " [3.400e+01 9.000e+00 2.000e+00 1.000e+00 0.000e+00 0.000e+00 4.000e+01\n",
            "  0.000e+00]\n",
            " [3.800e+01 1.000e+01 2.000e+00 0.000e+00 0.000e+00 0.000e+00 2.800e+01\n",
            "  0.000e+00]\n",
            " [4.100e+01 1.300e+01 2.000e+00 1.000e+00 0.000e+00 0.000e+00 4.000e+01\n",
            "  0.000e+00]\n",
            " [3.600e+01 1.300e+01 2.000e+00 1.000e+00 7.298e+03 0.000e+00 3.600e+01\n",
            "  1.000e+00]\n",
            " [4.400e+01 9.000e+00 2.000e+00 1.000e+00 0.000e+00 0.000e+00 4.000e+01\n",
            "  0.000e+00]\n",
            " [3.700e+01 1.300e+01 2.000e+00 1.000e+00 0.000e+00 0.000e+00 6.000e+01\n",
            "  1.000e+00]\n",
            " [9.000e+01 9.000e+00 2.000e+00 1.000e+00 0.000e+00 2.206e+03 4.000e+01\n",
            "  0.000e+00]\n",
            " [5.400e+01 9.000e+00 2.000e+00 1.000e+00 0.000e+00 0.000e+00 2.000e+01\n",
            "  0.000e+00]\n",
            " [3.500e+01 7.000e+00 2.000e+00 1.000e+00 3.674e+03 0.000e+00 4.000e+01\n",
            "  0.000e+00]\n",
            " [4.100e+01 9.000e+00 2.000e+00 0.000e+00 0.000e+00 0.000e+00 3.800e+01\n",
            "  0.000e+00]\n",
            " [4.200e+01 1.300e+01 2.000e+00 0.000e+00 0.000e+00 0.000e+00 4.000e+01\n",
            "  0.000e+00]\n",
            " [5.900e+01 6.000e+00 2.000e+00 0.000e+00 0.000e+00 0.000e+00 3.000e+01\n",
            "  0.000e+00]\n",
            " [4.300e+01 9.000e+00 2.000e+00 1.000e+00 0.000e+00 0.000e+00 4.000e+01\n",
            "  0.000e+00]\n",
            " [3.400e+01 1.200e+01 2.000e+00 0.000e+00 0.000e+00 0.000e+00 4.500e+01\n",
            "  0.000e+00]\n",
            " [2.700e+01 1.300e+01 2.000e+00 0.000e+00 0.000e+00 0.000e+00 4.000e+01\n",
            "  0.000e+00]\n",
            " [1.900e+01 1.000e+01 2.000e+00 0.000e+00 0.000e+00 0.000e+00 2.500e+01\n",
            "  0.000e+00]\n",
            " [3.600e+01 1.300e+01 2.000e+00 0.000e+00 0.000e+00 0.000e+00 4.000e+01\n",
            "  1.000e+00]\n",
            " [2.300e+01 1.100e+01 2.000e+00 0.000e+00 0.000e+00 0.000e+00 1.500e+01\n",
            "  0.000e+00]\n",
            " [4.100e+01 1.000e+01 2.000e+00 1.000e+00 0.000e+00 0.000e+00 4.500e+01\n",
            "  0.000e+00]\n",
            " [1.900e+01 9.000e+00 2.000e+00 1.000e+00 0.000e+00 0.000e+00 3.000e+01\n",
            "  0.000e+00]\n",
            " [4.500e+01 9.000e+00 2.000e+00 1.000e+00 0.000e+00 0.000e+00 4.000e+01\n",
            "  0.000e+00]\n",
            " [2.200e+01 1.000e+01 2.000e+00 0.000e+00 0.000e+00 0.000e+00 4.000e+01\n",
            "  0.000e+00]\n",
            " [4.500e+01 9.000e+00 2.000e+00 1.000e+00 0.000e+00 0.000e+00 4.000e+01\n",
            "  0.000e+00]\n",
            " [4.400e+01 9.000e+00 2.000e+00 1.000e+00 0.000e+00 0.000e+00 4.000e+01\n",
            "  0.000e+00]\n",
            " [4.100e+01 1.000e+01 2.000e+00 0.000e+00 0.000e+00 0.000e+00 2.400e+01\n",
            "  0.000e+00]\n",
            " [2.400e+01 9.000e+00 2.000e+00 0.000e+00 0.000e+00 0.000e+00 4.000e+01\n",
            "  0.000e+00]\n",
            " [3.400e+01 7.000e+00 2.000e+00 1.000e+00 0.000e+00 0.000e+00 4.000e+01\n",
            "  0.000e+00]\n",
            " [3.400e+01 9.000e+00 2.000e+00 1.000e+00 5.940e+02 0.000e+00 6.000e+01\n",
            "  0.000e+00]\n",
            " [4.400e+01 9.000e+00 2.000e+00 0.000e+00 0.000e+00 0.000e+00 4.000e+01\n",
            "  0.000e+00]\n",
            " [1.900e+01 9.000e+00 2.000e+00 0.000e+00 0.000e+00 0.000e+00 4.000e+01\n",
            "  0.000e+00]\n",
            " [4.200e+01 1.200e+01 2.000e+00 1.000e+00 0.000e+00 0.000e+00 4.000e+01\n",
            "  1.000e+00]\n",
            " [3.800e+01 1.000e+01 2.000e+00 1.000e+00 0.000e+00 0.000e+00 5.000e+01\n",
            "  0.000e+00]\n",
            " [5.400e+01 9.000e+00 2.000e+00 1.000e+00 0.000e+00 0.000e+00 4.000e+01\n",
            "  0.000e+00]\n",
            " [5.200e+01 8.000e+00 2.000e+00 1.000e+00 5.940e+02 0.000e+00 4.000e+01\n",
            "  0.000e+00]\n",
            " [2.500e+01 1.000e+01 2.000e+00 0.000e+00 0.000e+00 0.000e+00 2.000e+01\n",
            "  0.000e+00]\n",
            " [2.400e+01 1.300e+01 2.000e+00 1.000e+00 0.000e+00 0.000e+00 4.000e+01\n",
            "  0.000e+00]\n",
            " [4.700e+01 9.000e+00 2.000e+00 0.000e+00 0.000e+00 0.000e+00 4.000e+01\n",
            "  0.000e+00]\n",
            " [5.300e+01 3.000e+00 2.000e+00 0.000e+00 0.000e+00 0.000e+00 3.000e+01\n",
            "  0.000e+00]\n",
            " [2.400e+01 1.000e+01 2.000e+00 1.000e+00 0.000e+00 0.000e+00 5.000e+01\n",
            "  0.000e+00]\n",
            " [3.600e+01 9.000e+00 2.000e+00 1.000e+00 0.000e+00 0.000e+00 4.000e+01\n",
            "  0.000e+00]\n",
            " [5.700e+01 2.000e+00 2.000e+00 0.000e+00 0.000e+00 0.000e+00 3.000e+01\n",
            "  0.000e+00]\n",
            " [3.400e+01 9.000e+00 2.000e+00 0.000e+00 0.000e+00 0.000e+00 4.000e+01\n",
            "  0.000e+00]\n",
            " [3.500e+01 9.000e+00 2.000e+00 0.000e+00 0.000e+00 0.000e+00 4.000e+01\n",
            "  0.000e+00]\n",
            " [3.300e+01 1.100e+01 2.000e+00 0.000e+00 0.000e+00 0.000e+00 4.000e+01\n",
            "  1.000e+00]\n",
            " [2.400e+01 9.000e+00 2.000e+00 0.000e+00 0.000e+00 0.000e+00 4.000e+01\n",
            "  0.000e+00]\n",
            " [4.800e+01 9.000e+00 2.000e+00 0.000e+00 0.000e+00 0.000e+00 3.700e+01\n",
            "  0.000e+00]\n",
            " [3.600e+01 9.000e+00 2.000e+00 1.000e+00 0.000e+00 0.000e+00 4.000e+01\n",
            "  0.000e+00]\n",
            " [3.000e+01 9.000e+00 2.000e+00 1.000e+00 0.000e+00 0.000e+00 4.500e+01\n",
            "  0.000e+00]\n",
            " [4.500e+01 7.000e+00 2.000e+00 0.000e+00 0.000e+00 0.000e+00 2.000e+01\n",
            "  0.000e+00]\n",
            " [6.500e+01 5.000e+00 2.000e+00 0.000e+00 0.000e+00 0.000e+00 2.400e+01\n",
            "  0.000e+00]\n",
            " [3.000e+01 9.000e+00 2.000e+00 1.000e+00 0.000e+00 0.000e+00 6.000e+01\n",
            "  0.000e+00]\n",
            " [4.700e+01 1.000e+01 2.000e+00 0.000e+00 0.000e+00 0.000e+00 4.000e+01\n",
            "  0.000e+00]\n",
            " [4.900e+01 6.000e+00 2.000e+00 0.000e+00 0.000e+00 0.000e+00 4.000e+01\n",
            "  0.000e+00]\n",
            " [3.000e+01 1.300e+01 2.000e+00 0.000e+00 0.000e+00 0.000e+00 4.000e+01\n",
            "  1.000e+00]\n",
            " [4.400e+01 8.000e+00 2.000e+00 1.000e+00 0.000e+00 0.000e+00 4.000e+01\n",
            "  1.000e+00]\n",
            " [4.200e+01 9.000e+00 2.000e+00 1.000e+00 0.000e+00 0.000e+00 4.000e+01\n",
            "  1.000e+00]\n",
            " [2.300e+01 1.000e+01 2.000e+00 1.000e+00 0.000e+00 0.000e+00 4.000e+01\n",
            "  0.000e+00]\n",
            " [2.400e+01 1.000e+01 2.000e+00 0.000e+00 0.000e+00 0.000e+00 4.500e+01\n",
            "  0.000e+00]\n",
            " [4.000e+01 8.000e+00 2.000e+00 1.000e+00 0.000e+00 0.000e+00 4.000e+01\n",
            "  0.000e+00]\n",
            " [4.500e+01 1.000e+01 2.000e+00 1.000e+00 0.000e+00 0.000e+00 4.000e+01\n",
            "  0.000e+00]\n",
            " [3.600e+01 1.000e+01 2.000e+00 0.000e+00 0.000e+00 0.000e+00 4.000e+01\n",
            "  0.000e+00]\n",
            " [3.100e+01 9.000e+00 2.000e+00 0.000e+00 0.000e+00 0.000e+00 4.000e+01\n",
            "  0.000e+00]\n",
            " [4.500e+01 1.000e+01 2.000e+00 0.000e+00 0.000e+00 0.000e+00 4.000e+01\n",
            "  0.000e+00]\n",
            " [3.600e+01 1.000e+01 2.000e+00 0.000e+00 0.000e+00 0.000e+00 3.600e+01\n",
            "  0.000e+00]\n",
            " [5.600e+01 9.000e+00 2.000e+00 0.000e+00 5.940e+02 0.000e+00 2.000e+01\n",
            "  0.000e+00]\n",
            " [3.200e+01 1.000e+01 2.000e+00 0.000e+00 0.000e+00 0.000e+00 4.000e+01\n",
            "  0.000e+00]\n",
            " [2.900e+01 7.000e+00 2.000e+00 1.000e+00 0.000e+00 0.000e+00 4.000e+01\n",
            "  0.000e+00]\n",
            " [3.700e+01 9.000e+00 2.000e+00 1.000e+00 0.000e+00 0.000e+00 4.000e+01\n",
            "  0.000e+00]\n",
            " [4.200e+01 1.000e+01 2.000e+00 0.000e+00 0.000e+00 0.000e+00 3.800e+01\n",
            "  0.000e+00]\n",
            " [2.200e+01 1.000e+01 2.000e+00 1.000e+00 0.000e+00 0.000e+00 2.000e+01\n",
            "  0.000e+00]\n",
            " [2.500e+01 9.000e+00 2.000e+00 1.000e+00 0.000e+00 0.000e+00 4.000e+01\n",
            "  0.000e+00]\n",
            " [2.400e+01 9.000e+00 2.000e+00 1.000e+00 0.000e+00 1.721e+03 3.000e+01\n",
            "  0.000e+00]\n",
            " [2.200e+01 1.000e+01 2.000e+00 1.000e+00 0.000e+00 0.000e+00 4.000e+01\n",
            "  0.000e+00]\n",
            " [5.500e+01 3.000e+00 2.000e+00 1.000e+00 0.000e+00 0.000e+00 2.500e+01\n",
            "  0.000e+00]\n",
            " [2.300e+01 9.000e+00 2.000e+00 0.000e+00 0.000e+00 0.000e+00 7.000e+00\n",
            "  0.000e+00]\n",
            " [5.400e+01 9.000e+00 2.000e+00 1.000e+00 0.000e+00 0.000e+00 4.000e+01\n",
            "  0.000e+00]\n",
            " [4.800e+01 1.000e+01 2.000e+00 0.000e+00 0.000e+00 0.000e+00 3.000e+01\n",
            "  0.000e+00]\n",
            " [2.400e+01 1.300e+01 2.000e+00 1.000e+00 0.000e+00 0.000e+00 1.500e+01\n",
            "  0.000e+00]\n",
            " [2.300e+01 9.000e+00 2.000e+00 1.000e+00 0.000e+00 0.000e+00 4.000e+01\n",
            "  0.000e+00]\n",
            " [3.800e+01 1.000e+01 2.000e+00 0.000e+00 0.000e+00 0.000e+00 4.000e+01\n",
            "  0.000e+00]\n",
            " [3.500e+01 9.000e+00 2.000e+00 1.000e+00 0.000e+00 0.000e+00 4.000e+01\n",
            "  0.000e+00]\n",
            " [5.400e+01 1.000e+01 2.000e+00 0.000e+00 0.000e+00 0.000e+00 3.500e+01\n",
            "  0.000e+00]\n",
            " [5.100e+01 4.000e+00 2.000e+00 0.000e+00 0.000e+00 0.000e+00 4.000e+01\n",
            "  0.000e+00]\n",
            " [7.800e+01 9.000e+00 2.000e+00 0.000e+00 2.964e+03 0.000e+00 4.000e+01\n",
            "  0.000e+00]\n",
            " [2.300e+01 9.000e+00 2.000e+00 0.000e+00 0.000e+00 0.000e+00 4.000e+01\n",
            "  0.000e+00]\n",
            " [4.100e+01 9.000e+00 2.000e+00 0.000e+00 0.000e+00 0.000e+00 3.500e+01\n",
            "  0.000e+00]]\n"
          ]
        }
      ]
    },
    {
      "cell_type": "code",
      "source": [
        "race_3 =data[data[:,2]==3]\n",
        "print(race_3)"
      ],
      "metadata": {
        "colab": {
          "base_uri": "https://localhost:8080/"
        },
        "id": "ktSRjJS0Ah9v",
        "outputId": "524b67e6-01d6-4664-eecf-c7e810e8e482"
      },
      "execution_count": null,
      "outputs": [
        {
          "output_type": "stream",
          "name": "stdout",
          "text": [
            "[[2.500e+01 1.000e+01 3.000e+00 0.000e+00 0.000e+00 0.000e+00 4.000e+01\n",
            "  0.000e+00]\n",
            " [3.300e+01 1.000e+01 3.000e+00 0.000e+00 0.000e+00 0.000e+00 4.000e+01\n",
            "  0.000e+00]\n",
            " [6.500e+01 7.000e+00 3.000e+00 1.000e+00 0.000e+00 0.000e+00 4.000e+01\n",
            "  0.000e+00]\n",
            " [2.800e+01 4.000e+00 3.000e+00 1.000e+00 0.000e+00 2.179e+03 4.000e+01\n",
            "  0.000e+00]\n",
            " [4.400e+01 7.000e+00 3.000e+00 0.000e+00 0.000e+00 0.000e+00 4.600e+01\n",
            "  0.000e+00]\n",
            " [4.000e+01 1.300e+01 3.000e+00 0.000e+00 0.000e+00 0.000e+00 5.500e+01\n",
            "  1.000e+00]]\n"
          ]
        }
      ]
    },
    {
      "cell_type": "code",
      "source": [
        "race_4 =data[data[:,2]==4]\n",
        "print(race_4)"
      ],
      "metadata": {
        "colab": {
          "base_uri": "https://localhost:8080/"
        },
        "id": "1b5IrmwLAnl7",
        "outputId": "48584228-2bfc-400c-c3a0-0a6b06a29659"
      },
      "execution_count": null,
      "outputs": [
        {
          "output_type": "stream",
          "name": "stdout",
          "text": [
            "[[39. 13.  4. ...  0. 40.  0.]\n",
            " [50. 13.  4. ...  0. 13.  0.]\n",
            " [38.  9.  4. ...  0. 40.  0.]\n",
            " ...\n",
            " [40. 10.  4. ...  0. 40.  0.]\n",
            " [39. 13.  4. ...  0. 50.  1.]\n",
            " [50.  9.  4. ...  0. 40.  0.]]\n"
          ]
        }
      ]
    },
    {
      "cell_type": "code",
      "source": [
        "len_0=len(race_0)\n",
        "len_0"
      ],
      "metadata": {
        "colab": {
          "base_uri": "https://localhost:8080/"
        },
        "id": "TFSMAYjyfHHs",
        "outputId": "424495c0-74f4-43b2-9748-f18426bf0d47"
      },
      "execution_count": null,
      "outputs": [
        {
          "output_type": "execute_result",
          "data": {
            "text/plain": [
              "10"
            ]
          },
          "metadata": {},
          "execution_count": 29
        }
      ]
    },
    {
      "cell_type": "code",
      "source": [
        "len_1=len(race_1)\n",
        "len_1"
      ],
      "metadata": {
        "colab": {
          "base_uri": "https://localhost:8080/"
        },
        "id": "yynaA3_Yf1Bt",
        "outputId": "b258a482-7995-4445-e7fd-eca48eb5dcf7"
      },
      "execution_count": null,
      "outputs": [
        {
          "output_type": "execute_result",
          "data": {
            "text/plain": [
              "27"
            ]
          },
          "metadata": {},
          "execution_count": 31
        }
      ]
    },
    {
      "cell_type": "code",
      "source": [
        "len_2=len(race_2)\n",
        "len_2"
      ],
      "metadata": {
        "colab": {
          "base_uri": "https://localhost:8080/"
        },
        "id": "31g2Agkgf6Di",
        "outputId": "84282630-ffd9-43a7-d21f-a9f054853f19"
      },
      "execution_count": null,
      "outputs": [
        {
          "output_type": "execute_result",
          "data": {
            "text/plain": [
              "110"
            ]
          },
          "metadata": {},
          "execution_count": 32
        }
      ]
    },
    {
      "cell_type": "code",
      "source": [
        "len_3=len(race_3)\n",
        "len_3"
      ],
      "metadata": {
        "colab": {
          "base_uri": "https://localhost:8080/"
        },
        "id": "elZTCXdvgAQ5",
        "outputId": "676519e4-eecc-415d-9dcb-519fcdfa93bc"
      },
      "execution_count": null,
      "outputs": [
        {
          "output_type": "execute_result",
          "data": {
            "text/plain": [
              "6"
            ]
          },
          "metadata": {},
          "execution_count": 33
        }
      ]
    },
    {
      "cell_type": "code",
      "source": [
        "len_4=len(race_4)\n",
        "len_4"
      ],
      "metadata": {
        "colab": {
          "base_uri": "https://localhost:8080/"
        },
        "id": "jn0GB3sQgFJO",
        "outputId": "c5329156-2c29-4a1d-c86e-de1667b31bae"
      },
      "execution_count": null,
      "outputs": [
        {
          "output_type": "execute_result",
          "data": {
            "text/plain": [
              "848"
            ]
          },
          "metadata": {},
          "execution_count": 34
        }
      ]
    },
    {
      "cell_type": "code",
      "source": [
        "minority_race = len(race_0)\n",
        "print(race_0)"
      ],
      "metadata": {
        "colab": {
          "base_uri": "https://localhost:8080/"
        },
        "id": "3Oydw6IWjxwx",
        "outputId": "35268261-9cb3-4fbb-d3ed-d36ad0b4d977"
      },
      "execution_count": null,
      "outputs": [
        {
          "output_type": "stream",
          "name": "stdout",
          "text": [
            "[[34.  4.  0.  1.  0.  0. 45.  0.]\n",
            " [35. 10.  0.  0.  0.  0. 40.  0.]\n",
            " [60.  6.  0.  0.  0.  0. 10.  0.]\n",
            " [51.  9.  0.  1.  0.  0. 40.  0.]\n",
            " [25. 10.  0.  0.  0.  0. 20.  0.]\n",
            " [20.  9.  0.  1.  0.  0. 48.  0.]\n",
            " [23. 10.  0.  0.  0.  0. 25.  0.]\n",
            " [29.  9.  0.  1.  0.  0. 40.  0.]\n",
            " [27. 12.  0.  1.  0.  0. 40.  0.]\n",
            " [31. 12.  0.  0.  0.  0. 40.  0.]]\n"
          ]
        }
      ]
    },
    {
      "cell_type": "markdown",
      "source": [
        "Step 4: create a list that contains the lengths of all the races(len_1,len_2,...)\n",
        "Then find the min value in that list using list functions and finally store the index position of that value in variable called minority_race."
      ],
      "metadata": {
        "id": "Yx_H9xQYmy2C"
      }
    },
    {
      "cell_type": "code",
      "source": [
        "races = [len_1,len_2]\n"
      ],
      "metadata": {
        "id": "91qqWVh5mwWb"
      },
      "execution_count": null,
      "outputs": []
    },
    {
      "cell_type": "code",
      "source": [
        "abc = [10,20,30,40,500]\n",
        "minority = abc.index(min(abc))\n",
        "minority"
      ],
      "metadata": {
        "colab": {
          "base_uri": "https://localhost:8080/"
        },
        "id": "sR5YsYjMnf3H",
        "outputId": "3631d79d-557e-41ee-dae8-37b2bf4717b9"
      },
      "execution_count": null,
      "outputs": [
        {
          "output_type": "execute_result",
          "data": {
            "text/plain": [
              "0"
            ]
          },
          "metadata": {},
          "execution_count": 45
        }
      ]
    },
    {
      "cell_type": "code",
      "source": [
        "races = [10, 27, 110, 6, 848]\n",
        "minority = races.index(min(races))\n",
        "minority"
      ],
      "metadata": {
        "colab": {
          "base_uri": "https://localhost:8080/"
        },
        "id": "r-4P4NagnulQ",
        "outputId": "c2936f04-3fc4-4e4f-b217-0e2b50c0e7d0"
      },
      "execution_count": null,
      "outputs": [
        {
          "output_type": "execute_result",
          "data": {
            "text/plain": [
              "3"
            ]
          },
          "metadata": {},
          "execution_count": 46
        }
      ]
    },
    {
      "cell_type": "markdown",
      "source": [
        "STEP 5"
      ],
      "metadata": {
        "id": "9qwbafQVpe-I"
      }
    },
    {
      "cell_type": "code",
      "source": [
        ""
      ],
      "metadata": {
        "id": "ebHUzyL3xPs4"
      },
      "execution_count": null,
      "outputs": []
    },
    {
      "cell_type": "code",
      "source": [
        "age_df = data[:,0]  #age column\n",
        "\n",
        "\n",
        "senior_citizens = age_df[age_df > 60] #masking\n",
        "senior_citizens\n"
      ],
      "metadata": {
        "colab": {
          "base_uri": "https://localhost:8080/"
        },
        "id": "1Klufx-0phPv",
        "outputId": "a6797cf1-41e6-4997-d8f8-1ae11069012f"
      },
      "execution_count": null,
      "outputs": [
        {
          "output_type": "execute_result",
          "data": {
            "text/plain": [
              "array([79., 67., 76., 61., 70., 64., 71., 68., 66., 64., 90., 66., 75.,\n",
              "       65., 64., 61., 65., 77., 62., 76., 63., 66., 67., 65., 62., 63.,\n",
              "       80., 67., 63., 72., 62., 74., 67., 72., 69., 65., 65., 71., 70.,\n",
              "       66., 65., 61., 61., 68., 64., 64., 62., 73., 72., 63., 62., 61.,\n",
              "       71., 63., 63., 67., 81., 64., 67., 78., 63.])"
            ]
          },
          "metadata": {},
          "execution_count": 65
        }
      ]
    },
    {
      "cell_type": "code",
      "source": [
        "senior_working = data[:, 6]\n",
        "print(senior_working)\n",
        "working_hours_sum = sum(senior_working[age_df>60])\n",
        "print(working_hours_sum)\n",
        "                        "
      ],
      "metadata": {
        "colab": {
          "base_uri": "https://localhost:8080/"
        },
        "id": "GuwzrIlFxebp",
        "outputId": "0b7d30b5-204d-463a-ee17-8f2055ddd317"
      },
      "execution_count": null,
      "outputs": [
        {
          "output_type": "stream",
          "name": "stdout",
          "text": [
            "[40. 13. 40. ... 40. 50. 40.]\n",
            "1917.0\n"
          ]
        }
      ]
    },
    {
      "cell_type": "code",
      "source": [
        "len(senior_working[age_df>60])"
      ],
      "metadata": {
        "colab": {
          "base_uri": "https://localhost:8080/"
        },
        "id": "GTS41wply1_L",
        "outputId": "30485359-df27-4652-de1c-c75d5bb9e44c"
      },
      "execution_count": null,
      "outputs": [
        {
          "output_type": "execute_result",
          "data": {
            "text/plain": [
              "61"
            ]
          },
          "metadata": {},
          "execution_count": 69
        }
      ]
    },
    {
      "cell_type": "code",
      "source": [
        "avg_working_hours = ((working_hours_sum) / (senior_working[age_df>60]))\n",
        "print(avg_working_hours)"
      ],
      "metadata": {
        "colab": {
          "base_uri": "https://localhost:8080/"
        },
        "id": "aINA6DlD0U2N",
        "outputId": "d67ddb52-e74d-431c-c5f4-c4115f368e4a"
      },
      "execution_count": null,
      "outputs": [
        {
          "output_type": "stream",
          "name": "stdout",
          "text": [
            "[ 95.85       958.5         47.925       47.925       47.925\n",
            "  47.925      958.5         95.85        95.85        47.925\n",
            "  47.925       38.34        95.85        47.925       47.925\n",
            "  47.925      119.8125      47.925       79.875      191.7\n",
            "  42.6         34.85454545 239.625       47.925       47.925\n",
            "  47.925       79.875       79.875       54.77142857  95.85\n",
            "  47.925      213.          39.9375      47.925       47.925\n",
            "  63.9         79.875      127.8        127.8        479.25\n",
            "  32.49152542  38.34        47.925       95.85        47.925\n",
            "  42.6         47.925       47.925       79.875      319.5\n",
            "  39.9375      47.925       47.925      127.8         34.85454545\n",
            "  47.925       63.9        383.4         47.925       47.925\n",
            "  95.85      ]\n"
          ]
        }
      ]
    },
    {
      "cell_type": "markdown",
      "source": [
        "step 6"
      ],
      "metadata": {
        "id": "eccTAUh_3Qp0"
      }
    },
    {
      "cell_type": "code",
      "source": [
        "education_num = data[:,1]\n",
        "high = education_num[education_num > 10]\n",
        "high\n",
        "low = education_num[education_num <=10]\n",
        "low"
      ],
      "metadata": {
        "colab": {
          "base_uri": "https://localhost:8080/"
        },
        "id": "YLFri4AN3SPJ",
        "outputId": "6833168e-868c-4045-8b6f-a2096263f9eb"
      },
      "execution_count": null,
      "outputs": [
        {
          "output_type": "execute_result",
          "data": {
            "text/plain": [
              "array([ 9.,  7.,  5.,  9., 10.,  4.,  9.,  9.,  7.,  9.,  5.,  7.,  9.,\n",
              "        9., 10.,  9.,  9., 10., 10., 10.,  7., 10.,  9., 10.,  5.,  9.,\n",
              "        9.,  9., 10.,  9.,  9., 10.,  3.,  9.,  9.,  4.,  9., 10.,  9.,\n",
              "       10.,  9., 10., 10., 10., 10., 10.,  9.,  6.,  7.,  4.,  9.,  9.,\n",
              "        9.,  9.,  9.,  9.,  5., 10., 10.,  9., 10., 10.,  9., 10.,  9.,\n",
              "        9.,  6.,  7.,  9.,  9.,  9., 10.,  9.,  5., 10., 10.,  9., 10.,\n",
              "       10., 10.,  9., 10.,  9.,  9.,  9., 10., 10.,  9., 10., 10., 10.,\n",
              "        9., 10.,  9.,  7., 10., 10.,  9.,  9.,  9.,  9., 10.,  9.,  2.,\n",
              "        9.,  9., 10.,  7.,  9.,  9., 10.,  9.,  9.,  9.,  9., 10., 10.,\n",
              "       10.,  4., 10.,  9., 10., 10., 10.,  3., 10.,  9.,  9., 10.,  9.,\n",
              "        7.,  9.,  9.,  7.,  9.,  9., 10.,  9.,  4.,  6., 10.,  2.,  9.,\n",
              "        9.,  1.,  9.,  6.,  9.,  9.,  7.,  9., 10., 10.,  9., 10.,  9.,\n",
              "        9., 10., 10.,  9.,  9.,  9.,  9.,  6., 10., 10.,  9.,  9.,  9.,\n",
              "        4.,  9.,  7., 10.,  7., 10., 10.,  9.,  9.,  9.,  5.,  9.,  9.,\n",
              "       10., 10., 10., 10., 10.,  9., 10.,  4.,  9., 10.,  9.,  9.,  9.,\n",
              "       10.,  9.,  9., 10.,  9., 10., 10., 10., 10., 10.,  3., 10.,  9.,\n",
              "        9., 10.,  9.,  7.,  9., 10.,  9.,  9., 10.,  6.,  9.,  3.,  9.,\n",
              "        9.,  9.,  9.,  9., 10.,  7.,  9.,  7.,  9.,  7.,  9.,  5.,  6.,\n",
              "        9.,  9., 10.,  9., 10.,  7.,  9.,  9., 10.,  9., 10.,  9.,  9.,\n",
              "        3., 10., 10., 10.,  9.,  9., 10., 10.,  9.,  9.,  9., 10., 10.,\n",
              "        9., 10., 10.,  4.,  9.,  9., 10., 10., 10.,  9., 10., 10.,  8.,\n",
              "        2.,  7.,  7.,  9., 10.,  7.,  9.,  6.,  9.,  9.,  9.,  9.,  7.,\n",
              "       10.,  9., 10., 10., 10.,  9.,  9., 10.,  5., 10.,  9.,  9.,  9.,\n",
              "        7.,  9., 10.,  9.,  9.,  9., 10.,  9., 10.,  9.,  2.,  9.,  9.,\n",
              "       10., 10., 10.,  9.,  9.,  5., 10.,  6.,  9., 10.,  9.,  8., 10.,\n",
              "        2.,  9.,  9.,  9.,  9.,  9., 10.,  3., 10.,  9.,  9.,  9., 10.,\n",
              "       10., 10., 10.,  9.,  9.,  3., 10.,  9., 10., 10., 10.,  9., 10.,\n",
              "       10., 10., 10., 10.,  9.,  7.,  9.,  9.,  8.,  2.,  9., 10., 10.,\n",
              "        9., 10.,  9.,  6., 10.,  9., 10., 10.,  9.,  7.,  9.,  7.,  9.,\n",
              "        9.,  9.,  7., 10.,  9.,  9.,  4.,  9.,  9.,  9.,  7.,  8., 10.,\n",
              "       10.,  9.,  9.,  9., 10., 10.,  7.,  6.,  9.,  9.,  4.,  9., 10.,\n",
              "       10., 10.,  4.,  5.,  9.,  9.,  9.,  6.,  9.,  9.,  9.,  9.,  9.,\n",
              "        7.,  5.,  5.,  9.,  9.,  9., 10., 10.,  6., 10.,  9.,  9.,  3.,\n",
              "        9.,  9., 10., 10., 10.,  9.,  9.,  9., 10.,  9., 10.,  9., 10.,\n",
              "        5.,  9.,  4.,  9.,  8., 10., 10., 10.,  9.,  7.,  5., 10.,  7.,\n",
              "        7.,  9.,  9.,  8., 10.,  9.,  9.,  9.,  9., 10.,  7.,  9.,  4.,\n",
              "        9., 10., 10., 10., 10.,  9., 10., 10.,  8., 10.,  9.,  7., 10.,\n",
              "        9.,  9.,  9., 10.,  9.,  9.,  9.,  9., 10.,  9.,  7., 10., 10.,\n",
              "       10., 10., 10.,  9., 10.,  9.,  8.,  9., 10.,  7.,  6.,  9.,  9.,\n",
              "        9.,  9.,  9.,  9.,  9.,  9.,  6., 10., 10.,  9., 10.,  3.,  9.,\n",
              "        9., 10., 10., 10., 10., 10.,  9.,  8.,  9.,  9., 10.,  9.,  9.,\n",
              "       10.,  9.,  9.,  9.,  7.,  9.,  7.,  9.,  9.,  9., 10., 10., 10.,\n",
              "        6.,  9., 10.,  9.,  9.,  9.,  9.,  9.,  9.,  9., 10.,  7., 10.,\n",
              "       10.,  9.,  7.,  9.,  9.,  9.,  7., 10., 10.,  9., 10.,  9.,  9.,\n",
              "        9.,  9.,  9.,  9.,  7.,  9.,  7., 10.,  9., 10.,  6.,  7., 10.,\n",
              "       10.,  3.,  9.,  9.,  9.,  5.,  9., 10., 10., 10.,  9., 10., 10.,\n",
              "        9.,  4.,  5.,  9.,  9.,  9., 10.,  9., 10.,  9., 10.,  6., 10.,\n",
              "        9.,  9.,  9., 10., 10., 10.,  3., 10.,  9.,  9.,  9., 10.,  2.,\n",
              "        9., 10.,  1.,  9.,  7.,  9.,  9.,  9.,  9.,  9.,  9., 10., 10.,\n",
              "       10., 10.,  9.,  4.,  9., 10.,  6., 10.,  6., 10.,  9.,  6.,  9.,\n",
              "        9., 10.,  9.,  9.,  9.,  9., 10., 10.,  9.,  9.,  9.,  9.,  9.,\n",
              "        9.,  9.,  9.,  9., 10.,  9.,  9.,  9.,  9., 10.,  9.])"
            ]
          },
          "metadata": {},
          "execution_count": 102
        }
      ]
    },
    {
      "cell_type": "code",
      "source": [
        "income = data[:, 7]\n",
        "print(income)\n",
        "avg_pay_high =np. mean(income[education_num > 10])\n",
        "print(avg_pay_high)\n",
        "avg_pay_low = np.mean(income[education_num <=10])\n",
        "print(avg_pay_low)\n",
        "\n"
      ],
      "metadata": {
        "colab": {
          "base_uri": "https://localhost:8080/"
        },
        "id": "hfeoE3Sy4mXk",
        "outputId": "ca5eae78-4043-4040-8bde-c4c17fa1a9b7"
      },
      "execution_count": 116,
      "outputs": [
        {
          "output_type": "stream",
          "name": "stdout",
          "text": [
            "[0. 0. 0. ... 0. 1. 0.]\n",
            "0.42813455657492355\n",
            "0.13649851632047477\n"
          ]
        }
      ]
    }
  ]
}